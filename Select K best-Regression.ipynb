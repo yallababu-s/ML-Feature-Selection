{
 "cells": [
  {
   "cell_type": "code",
   "execution_count": 1,
   "id": "43a94609",
   "metadata": {},
   "outputs": [],
   "source": [
    "#Select K =n n here ex:3 (call1,2,3 best 3 input (imp features) model score stores to all the models to chisquare)\n",
    "#Selectk_classificatio.py   saved all the class and def function names"
   ]
  },
  {
   "cell_type": "code",
   "execution_count": 1,
   "id": "e444ecc0",
   "metadata": {},
   "outputs": [],
   "source": [
    "import warnings\n",
    "warnings.filterwarnings(\"ignore\")"
   ]
  },
  {
   "cell_type": "code",
   "execution_count": 2,
   "id": "97955b79",
   "metadata": {},
   "outputs": [],
   "source": [
    "#import all the libraries and def functions\n",
    "import pandas as pd\n",
    "from sklearn.model_selection import train_test_split \n",
    "import time\n",
    "import numpy as np\n",
    "from sklearn.preprocessing import StandardScaler\n",
    "from sklearn.feature_selection import SelectKBest\n",
    "from sklearn.feature_selection import f_regression\n",
    "from sklearn.feature_selection import RFE\n",
    "from sklearn.linear_model import LinearRegression\n",
    "from sklearn.neighbors import KNeighborsRegressor #KNN\n",
    "import pickle\n",
    "import matplotlib.pyplot as plt"
   ]
  },
  {
   "cell_type": "code",
   "execution_count": 3,
   "id": "ecf8fbed",
   "metadata": {},
   "outputs": [],
   "source": [
    "def selectkbest(indep_X,dep_Y,n):\n",
    "        test = SelectKBest(score_func=f_regression, k=n)\n",
    "        fit1= test.fit(indep_X,dep_Y)\n",
    "        # summarize scores       \n",
    "        selectk_features = fit1.transform(indep_X)\n",
    "        return selectk_features"
   ]
  },
  {
   "cell_type": "code",
   "execution_count": 4,
   "id": "9c32d0e2",
   "metadata": {},
   "outputs": [],
   "source": [
    "def split_scalar(indep_X,dep_Y):\n",
    "        X_train, X_test, y_train, y_test = train_test_split(indep_X, dep_Y, test_size = 0.25, random_state = 0)\n",
    "        sc = StandardScaler()\n",
    "        X_train = sc.fit_transform(X_train)\n",
    "        X_test = sc.transform(X_test)    \n",
    "        return X_train, X_test, y_train, y_test\n",
    " #r2 score   \n",
    "def r2_prediction(regressor,X_test,y_test):\n",
    "    y_pred = regressor.predict(X_test)\n",
    "    from sklearn.metrics import r2_score\n",
    "    r2=r2_score(y_test,y_pred)\n",
    "    return r2\n",
    "\n",
    "def MLinear(X_train,y_train,X_test):       \n",
    "        # Fitting K-NN to the Training set\n",
    "        from sklearn.linear_model import LinearRegression\n",
    "        regressor = LinearRegression()\n",
    "        regressor.fit(X_train, y_train)\n",
    "        r2=r2_prediction(regressor,X_test,y_test)\n",
    "        return  r2     \n",
    "    \n",
    "def svm_linear(X_train,y_train,X_test):\n",
    "                \n",
    "        from sklearn.svm import SVR\n",
    "        regressor = SVR(kernel = 'linear')\n",
    "        regressor.fit(X_train, y_train)\n",
    "        r2=r2_prediction(regressor,X_test,y_test)\n",
    "        return  r2  \n",
    "    \n",
    "#non linear-Nl    \n",
    "def svm_NL(X_train,y_train,X_test):\n",
    "                \n",
    "        from sklearn.svm import SVR\n",
    "        regressor = SVR(kernel = 'rbf')\n",
    "        regressor.fit(X_train, y_train)\n",
    "        r2=r2_prediction(regressor,X_test,y_test)\n",
    "        return  r2 \n",
    "    \n",
    "def KNeighborsRegressor(X_train,y_train,X_test):\n",
    "        \n",
    "        # Fitting K-NN to the Training setC\n",
    "        from sklearn.neighbors import KNeighborsRegressor\n",
    "        regressor = KNeighborsRegressor(n_neighbors=5)\n",
    "        regressor.fit(X_train, y_train)\n",
    "        r2=r2_prediction(regressor,X_test,y_test)\n",
    "        return  r2 \n",
    "      \n",
    "def Decision(X_train,y_train,X_test):\n",
    "        \n",
    "        # Fitting K-NN to the Training setC\n",
    "        from sklearn.tree import DecisionTreeRegressor\n",
    "        regressor = DecisionTreeRegressor(random_state = 0)\n",
    "        regressor.fit(X_train, y_train)\n",
    "        r2=r2_prediction(regressor,X_test,y_test)\n",
    "        return  r2     \n",
    "\n",
    "\n",
    "def Random(X_train,y_train,X_test):       \n",
    "        # Fitting K-NN to the Training set\n",
    "        from sklearn.ensemble import RandomForestRegressor\n",
    "        regressor = RandomForestRegressor(n_estimators = 10, random_state = 0)\n",
    "        regressor.fit(X_train, y_train)\n",
    "        r2=r2_prediction(regressor,X_test,y_test)\n",
    "        return  r2 \n",
    "    \n",
    "def selectk_regression(acclin,accsvml,accsvmnl,accKnr,accdes,accrf): \n",
    "    \n",
    "    dataframe=pd.DataFrame(index=['f_regression'],columns=['MultiLinear','SVMl','SVMnl','Knr','Decision','Random'])\n",
    "    for number,idex in enumerate(dataframe.index):      \n",
    "        dataframe['MultiLinear'][idex]=acclin[number]       \n",
    "        dataframe['SVMl'][idex]=accsvml[number]\n",
    "        dataframe['SVMnl'][idex]=accsvmnl[number]\n",
    "        dataframe['Knr'][idex]=accKnr[number]\n",
    "        #dataframe['Navie'][idex]=accnav[number]--only classification has Navie bayes\n",
    "        dataframe['Decision'][idex]=accdes[number]\n",
    "        dataframe['Random'][idex]=accrf[number]\n",
    "    return dataframe\n"
   ]
  },
  {
   "cell_type": "code",
   "execution_count": 5,
   "id": "6cff690a",
   "metadata": {},
   "outputs": [
    {
     "data": {
      "text/plain": [
       "Index(['Row ID', 'Order ID', 'Order Date', 'Ship Date', 'Ship Mode',\n",
       "       'Customer ID', 'Customer Name', 'Segment', 'Country', 'City', 'State',\n",
       "       'Postal Code', 'Region', 'Product ID', 'Category', 'Sub-Category',\n",
       "       'Product Name', 'Sales', 'Quantity', 'Discount', 'Profit'],\n",
       "      dtype='object')"
      ]
     },
     "execution_count": 5,
     "metadata": {},
     "output_type": "execute_result"
    }
   ],
   "source": [
    "dataset1=pd.read_csv(\"superstore_reg.csv\",index_col=None)\n",
    "dataset1.columns"
   ]
  },
  {
   "cell_type": "code",
   "execution_count": 6,
   "id": "6c2eb831",
   "metadata": {},
   "outputs": [],
   "source": [
    "dataset1=dataset1.drop('Row ID', axis=1)"
   ]
  },
  {
   "cell_type": "code",
   "execution_count": 7,
   "id": "4eba20be",
   "metadata": {},
   "outputs": [
    {
     "name": "stdout",
     "output_type": "stream",
     "text": [
      "       Order ID  Order Date  Ship Date  Ship Mode  Customer ID  Customer Name  \\\n",
      "0         False       False      False      False        False          False   \n",
      "1         False       False      False      False        False          False   \n",
      "2         False       False      False      False        False          False   \n",
      "3         False       False      False      False        False          False   \n",
      "4         False       False      False      False        False          False   \n",
      "...         ...         ...        ...        ...          ...            ...   \n",
      "10795     False        True       True       True         True           True   \n",
      "10796     False        True       True       True         True           True   \n",
      "10797     False        True       True       True         True           True   \n",
      "10798     False        True       True       True         True           True   \n",
      "10799     False        True       True       True         True           True   \n",
      "\n",
      "       Segment  Country   City  State  Postal Code  Region  Product ID  \\\n",
      "0        False    False  False  False        False   False       False   \n",
      "1        False    False  False  False        False   False       False   \n",
      "2        False    False  False  False        False   False       False   \n",
      "3        False    False  False  False        False   False       False   \n",
      "4        False    False  False  False        False   False       False   \n",
      "...        ...      ...    ...    ...          ...     ...         ...   \n",
      "10795     True     True   True   True         True    True        True   \n",
      "10796     True     True   True   True         True    True        True   \n",
      "10797     True     True   True   True         True    True        True   \n",
      "10798     True     True   True   True         True    True        True   \n",
      "10799     True     True   True   True         True    True        True   \n",
      "\n",
      "       Category  Sub-Category  Product Name  Sales  Quantity  Discount  Profit  \n",
      "0         False         False         False  False     False     False   False  \n",
      "1         False         False         False  False     False     False   False  \n",
      "2         False         False         False  False     False     False   False  \n",
      "3         False         False         False  False     False     False   False  \n",
      "4         False         False         False  False     False     False   False  \n",
      "...         ...           ...           ...    ...       ...       ...     ...  \n",
      "10795      True          True          True   True      True      True    True  \n",
      "10796      True          True          True   True      True      True    True  \n",
      "10797      True          True          True   True      True      True    True  \n",
      "10798      True          True          True   True      True      True    True  \n",
      "10799      True          True          True   True      True      True    True  \n",
      "\n",
      "[10800 rows x 20 columns]\n",
      "Order ID           0\n",
      "Order Date       806\n",
      "Ship Date        806\n",
      "Ship Mode        806\n",
      "Customer ID      806\n",
      "Customer Name    806\n",
      "Segment          806\n",
      "Country          806\n",
      "City             806\n",
      "State            806\n",
      "Postal Code      817\n",
      "Region           806\n",
      "Product ID       806\n",
      "Category         806\n",
      "Sub-Category     806\n",
      "Product Name     806\n",
      "Sales            806\n",
      "Quantity         806\n",
      "Discount         806\n",
      "Profit           806\n",
      "dtype: int64\n",
      "15325\n"
     ]
    }
   ],
   "source": [
    "# Check for missing values\n",
    "#print(dataset1.isnull())  # Returns a DataFrame of booleans\n",
    "#print(dataset1.isnull().sum())  # Sum missing values per column\n",
    "#print(dataset1.isnull().sum().sum())  # Total missing values in the entire dataset"
   ]
  },
  {
   "cell_type": "code",
   "execution_count": 7,
   "id": "236c748f",
   "metadata": {},
   "outputs": [],
   "source": [
    "#backup dataset\n",
    "df2 = dataset1"
   ]
  },
  {
   "cell_type": "code",
   "execution_count": 8,
   "id": "94eb96fe",
   "metadata": {},
   "outputs": [],
   "source": [
    "df2 = df2.dropna(axis=0)  # Drop rows with any missing values\n",
    "# Drop rows with any missing values"
   ]
  },
  {
   "cell_type": "code",
   "execution_count": 9,
   "id": "742889e8",
   "metadata": {},
   "outputs": [],
   "source": [
    "df2 = df2.dropna(axis=1)  # Drop columns with missing values"
   ]
  },
  {
   "cell_type": "code",
   "execution_count": 10,
   "id": "1d0348b1",
   "metadata": {},
   "outputs": [],
   "source": [
    "#convert yes/no to 1 and 0 and drop repetitive column\n",
    "df2 = pd.get_dummies(df2, drop_first=True)\n",
    "df2 = df2.astype(float)\n",
    "#input and output column split\n",
    "indep_X=df2.drop('Profit', axis=1)\n",
    "dep_Y=df2['Profit']"
   ]
  },
  {
   "cell_type": "code",
   "execution_count": 11,
   "id": "522492c4",
   "metadata": {},
   "outputs": [
    {
     "data": {
      "text/plain": [
       "(9983, 13469)"
      ]
     },
     "execution_count": 11,
     "metadata": {},
     "output_type": "execute_result"
    }
   ],
   "source": [
    "df2.shape"
   ]
  },
  {
   "cell_type": "code",
   "execution_count": 12,
   "id": "1f052147",
   "metadata": {},
   "outputs": [
    {
     "name": "stdout",
     "output_type": "stream",
     "text": [
      "Postal Code                                                                                                         0\n",
      "Sales                                                                                                               0\n",
      "Quantity                                                                                                            0\n",
      "Discount                                                                                                            0\n",
      "Profit                                                                                                              0\n",
      "                                                                                                                   ..\n",
      "Product Name_iKross Bluetooth Portable Keyboard + Cell Phone Stand Holder + Brush for Apple iPhone 5S 5C 5, 4S 4    0\n",
      "Product Name_iOttie HLCRIO102 Car Mount                                                                             0\n",
      "Product Name_iOttie XL Car Mount                                                                                    0\n",
      "Product Name_invisibleSHIELD by ZAGG Smudge-Free Screen Protector                                                   0\n",
      "Product Name_netTALK DUO VoIP Telephone Service                                                                     0\n",
      "Length: 13469, dtype: int64\n",
      "0\n"
     ]
    }
   ],
   "source": [
    "# Check for missing values\n",
    "#print(dataset1.isnull())  # Returns a DataFrame of booleans\n",
    "print(df2.isnull().sum())  # Sum missing values per column\n",
    "print(df2.isnull().sum().sum())  # Total missing values in the entire dataset"
   ]
  },
  {
   "cell_type": "code",
   "execution_count": 13,
   "id": "49513323",
   "metadata": {},
   "outputs": [
    {
     "data": {
      "text/plain": [
       "Index(['Postal Code', 'Sales', 'Quantity', 'Discount', 'Profit',\n",
       "       'Order ID_CA-2015-100090', 'Order ID_CA-2015-100293',\n",
       "       'Order ID_CA-2015-100328', 'Order ID_CA-2015-100363',\n",
       "       'Order ID_CA-2015-100391',\n",
       "       ...\n",
       "       'Product Name_Zebra ZM400 Thermal Label Printer',\n",
       "       'Product Name_Zebra Zazzle Fluorescent Highlighters',\n",
       "       'Product Name_Zipper Ring Binder Pockets',\n",
       "       'Product Name_i.Sound Portable Power - 8000 mAh',\n",
       "       'Product Name_iHome FM Clock Radio with Lightning Dock',\n",
       "       'Product Name_iKross Bluetooth Portable Keyboard + Cell Phone Stand Holder + Brush for Apple iPhone 5S 5C 5, 4S 4',\n",
       "       'Product Name_iOttie HLCRIO102 Car Mount',\n",
       "       'Product Name_iOttie XL Car Mount',\n",
       "       'Product Name_invisibleSHIELD by ZAGG Smudge-Free Screen Protector',\n",
       "       'Product Name_netTALK DUO VoIP Telephone Service'],\n",
       "      dtype='object', length=13469)"
      ]
     },
     "execution_count": 13,
     "metadata": {},
     "output_type": "execute_result"
    }
   ],
   "source": [
    "df2.columns"
   ]
  },
  {
   "cell_type": "code",
   "execution_count": 14,
   "id": "693eda2d",
   "metadata": {},
   "outputs": [],
   "source": [
    "kbest = selectkbest(indep_X,dep_Y,6) \n",
    "#kbest = SelectKBest(score_func=f_regression,k=6)\n",
    "#ValueError: Input X contains NaN.\n",
    "#SelectKBest does not accept missing values encoded as NaN natively. \n",
    "#ValueError --drop nan and isnull(any)"
   ]
  },
  {
   "cell_type": "code",
   "execution_count": 15,
   "id": "57498e8b",
   "metadata": {},
   "outputs": [],
   "source": [
    "#best 6 input columns , we can modify this\n",
    "accmlin=[]\n",
    "accsvml=[]\n",
    "accsvmnl=[]\n",
    "accKnr=[]\n",
    "accnav=[]\n",
    "accdes=[]\n",
    "accrf=[]\n",
    "#to store data(acc) in empty list"
   ]
  },
  {
   "cell_type": "code",
   "execution_count": 16,
   "id": "33a650f2",
   "metadata": {},
   "outputs": [
    {
     "data": {
      "text/plain": [
       "array([[261.96 ,   0.   ,   0.   ,   0.   ,   0.   ,   0.   ],\n",
       "       [731.94 ,   0.   ,   0.   ,   0.   ,   0.   ,   0.   ],\n",
       "       [ 14.62 ,   0.   ,   0.   ,   0.   ,   0.   ,   0.   ],\n",
       "       ...,\n",
       "       [258.576,   0.   ,   0.   ,   0.   ,   0.   ,   0.   ],\n",
       "       [ 29.6  ,   0.   ,   0.   ,   0.   ,   0.   ,   0.   ],\n",
       "       [243.16 ,   0.   ,   0.   ,   0.   ,   0.   ,   0.   ]])"
      ]
     },
     "execution_count": 16,
     "metadata": {},
     "output_type": "execute_result"
    }
   ],
   "source": [
    "kbest\n",
    "#6 best input columns"
   ]
  },
  {
   "cell_type": "markdown",
   "id": "60b3b4f5",
   "metadata": {},
   "source": [
    "# regression kbest features(imp inputs)"
   ]
  },
  {
   "cell_type": "code",
   "execution_count": 30,
   "id": "15d41b0f",
   "metadata": {},
   "outputs": [],
   "source": [
    "X_train, X_test, y_train, y_test=split_scalar(kbest,dep_Y)  \n",
    "#for i in kbest:   \n",
    "r2_lin=MLinear(X_train,y_train,X_test)\n",
    "accmlin.append(r2_lin)\n",
    "    \n",
    "r2_sl=svm_linear(X_train,y_train,X_test)    \n",
    "accsvml.append(r2_sl)\n",
    "    \n",
    "r2_NL=svm_NL(X_train,y_train,X_test)\n",
    "accsvmnl.append(r2_NL)\n",
    "    \n",
    "r2_Knr=KNeighborsRegressor(X_train,y_train,X_test)\n",
    "accKnr.append(r2_Knr)\n",
    "    \n",
    "r2_d=Decision(X_train,y_train,X_test)\n",
    "accdes.append(r2_d)\n",
    "    \n",
    "r2_r=Random(X_train,y_train,X_test)\n",
    "accrf.append(r2_r)"
   ]
  },
  {
   "cell_type": "code",
   "execution_count": 31,
   "id": "b9c1cf34",
   "metadata": {},
   "outputs": [],
   "source": [
    "result=selectk_regression(accmlin,accsvml,accsvmnl,accKnr,accdes,accrf)"
   ]
  },
  {
   "cell_type": "code",
   "execution_count": 32,
   "id": "b5a6056a",
   "metadata": {},
   "outputs": [
    {
     "data": {
      "text/html": [
       "<div>\n",
       "<style scoped>\n",
       "    .dataframe tbody tr th:only-of-type {\n",
       "        vertical-align: middle;\n",
       "    }\n",
       "\n",
       "    .dataframe tbody tr th {\n",
       "        vertical-align: top;\n",
       "    }\n",
       "\n",
       "    .dataframe thead th {\n",
       "        text-align: right;\n",
       "    }\n",
       "</style>\n",
       "<table border=\"1\" class=\"dataframe\">\n",
       "  <thead>\n",
       "    <tr style=\"text-align: right;\">\n",
       "      <th></th>\n",
       "      <th>MultiLinear</th>\n",
       "      <th>SVMl</th>\n",
       "      <th>SVMnl</th>\n",
       "      <th>Knr</th>\n",
       "      <th>Decision</th>\n",
       "      <th>Random</th>\n",
       "    </tr>\n",
       "  </thead>\n",
       "  <tbody>\n",
       "    <tr>\n",
       "      <th>f_regression</th>\n",
       "      <td>0.381196</td>\n",
       "      <td>0.430013</td>\n",
       "      <td>0.047495</td>\n",
       "      <td>0.353185</td>\n",
       "      <td>0.542656</td>\n",
       "      <td>0.785947</td>\n",
       "    </tr>\n",
       "  </tbody>\n",
       "</table>\n",
       "</div>"
      ],
      "text/plain": [
       "             MultiLinear      SVMl     SVMnl       Knr  Decision    Random\n",
       "f_regression    0.381196  0.430013  0.047495  0.353185  0.542656  0.785947"
      ]
     },
     "execution_count": 32,
     "metadata": {},
     "output_type": "execute_result"
    }
   ],
   "source": [
    "result\n",
    "#6"
   ]
  },
  {
   "cell_type": "code",
   "execution_count": 33,
   "id": "23137982",
   "metadata": {},
   "outputs": [],
   "source": [
    "#best 5 input columns , we can modify this to get result\n",
    "kbest=selectkbest(indep_X,dep_Y,50)       \n",
    "\n",
    "accmlin=[]\n",
    "accsvml=[]\n",
    "accsvmnl=[]\n",
    "accKnr=[]\n",
    "accdes=[]\n",
    "accrf=[]"
   ]
  },
  {
   "cell_type": "code",
   "execution_count": 34,
   "id": "762106d6",
   "metadata": {},
   "outputs": [
    {
     "data": {
      "text/html": [
       "<div>\n",
       "<style scoped>\n",
       "    .dataframe tbody tr th:only-of-type {\n",
       "        vertical-align: middle;\n",
       "    }\n",
       "\n",
       "    .dataframe tbody tr th {\n",
       "        vertical-align: top;\n",
       "    }\n",
       "\n",
       "    .dataframe thead th {\n",
       "        text-align: right;\n",
       "    }\n",
       "</style>\n",
       "<table border=\"1\" class=\"dataframe\">\n",
       "  <thead>\n",
       "    <tr style=\"text-align: right;\">\n",
       "      <th></th>\n",
       "      <th>MultiLinear</th>\n",
       "      <th>SVMl</th>\n",
       "      <th>SVMnl</th>\n",
       "      <th>Knr</th>\n",
       "      <th>Decision</th>\n",
       "      <th>Random</th>\n",
       "    </tr>\n",
       "  </thead>\n",
       "  <tbody>\n",
       "    <tr>\n",
       "      <th>f_regression</th>\n",
       "      <td>0.381196</td>\n",
       "      <td>0.430013</td>\n",
       "      <td>0.047495</td>\n",
       "      <td>0.353185</td>\n",
       "      <td>0.542656</td>\n",
       "      <td>0.785947</td>\n",
       "    </tr>\n",
       "  </tbody>\n",
       "</table>\n",
       "</div>"
      ],
      "text/plain": [
       "             MultiLinear      SVMl     SVMnl       Knr  Decision    Random\n",
       "f_regression    0.381196  0.430013  0.047495  0.353185  0.542656  0.785947"
      ]
     },
     "execution_count": 34,
     "metadata": {},
     "output_type": "execute_result"
    }
   ],
   "source": [
    "result\n",
    "#5o"
   ]
  },
  {
   "cell_type": "code",
   "execution_count": 35,
   "id": "0ca1719e",
   "metadata": {},
   "outputs": [],
   "source": [
    "#best 3 input columns , we can modify this to get result\n",
    "kbest=selectkbest(indep_X,dep_Y,30)       \n",
    "\n",
    "accmlin=[]\n",
    "accsvml=[]\n",
    "accsvmnl=[]\n",
    "accKnr=[]\n",
    "accdes=[]\n",
    "accrf=[]"
   ]
  },
  {
   "cell_type": "code",
   "execution_count": 36,
   "id": "4ecc194b",
   "metadata": {},
   "outputs": [
    {
     "data": {
      "text/html": [
       "<div>\n",
       "<style scoped>\n",
       "    .dataframe tbody tr th:only-of-type {\n",
       "        vertical-align: middle;\n",
       "    }\n",
       "\n",
       "    .dataframe tbody tr th {\n",
       "        vertical-align: top;\n",
       "    }\n",
       "\n",
       "    .dataframe thead th {\n",
       "        text-align: right;\n",
       "    }\n",
       "</style>\n",
       "<table border=\"1\" class=\"dataframe\">\n",
       "  <thead>\n",
       "    <tr style=\"text-align: right;\">\n",
       "      <th></th>\n",
       "      <th>MultiLinear</th>\n",
       "      <th>SVMl</th>\n",
       "      <th>SVMnl</th>\n",
       "      <th>Knr</th>\n",
       "      <th>Decision</th>\n",
       "      <th>Random</th>\n",
       "    </tr>\n",
       "  </thead>\n",
       "  <tbody>\n",
       "    <tr>\n",
       "      <th>f_regression</th>\n",
       "      <td>0.381196</td>\n",
       "      <td>0.430013</td>\n",
       "      <td>0.047495</td>\n",
       "      <td>0.353185</td>\n",
       "      <td>0.542656</td>\n",
       "      <td>0.785947</td>\n",
       "    </tr>\n",
       "  </tbody>\n",
       "</table>\n",
       "</div>"
      ],
      "text/plain": [
       "             MultiLinear      SVMl     SVMnl       Knr  Decision    Random\n",
       "f_regression    0.381196  0.430013  0.047495  0.353185  0.542656  0.785947"
      ]
     },
     "execution_count": 36,
     "metadata": {},
     "output_type": "execute_result"
    }
   ],
   "source": [
    "result\n",
    "#30"
   ]
  },
  {
   "cell_type": "code",
   "execution_count": null,
   "id": "4eccc827",
   "metadata": {},
   "outputs": [],
   "source": [
    "#Best Accuracy Model is Random Forest"
   ]
  }
 ],
 "metadata": {
  "kernelspec": {
   "display_name": "Python 3 (ipykernel)",
   "language": "python",
   "name": "python3"
  },
  "language_info": {
   "codemirror_mode": {
    "name": "ipython",
    "version": 3
   },
   "file_extension": ".py",
   "mimetype": "text/x-python",
   "name": "python",
   "nbconvert_exporter": "python",
   "pygments_lexer": "ipython3",
   "version": "3.11.4"
  }
 },
 "nbformat": 4,
 "nbformat_minor": 5
}
